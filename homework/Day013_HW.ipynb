{
 "cells": [
  {
   "cell_type": "markdown",
   "metadata": {},
   "source": [
    "# PTT 網路爬蟲實作練習\n",
    "\n",
    "\n",
    "* 能夠利用 Request + BeatifulSour 撰寫爬蟲，並存放到合適的資料結構\n"
   ]
  },
  {
   "cell_type": "markdown",
   "metadata": {},
   "source": [
    "## 作業目標\n",
    "\n",
    "根據範例 ，完成以下問題：\n",
    "\n",
    "* ① 印出最新文章的「作者」「標題」「時間」\n",
    "* ② 印出第一頁所有文章的「作者」「標題」「時間」\n"
   ]
  },
  {
   "cell_type": "markdown",
   "metadata": {},
   "source": [
    "### ① 印出最新文章的「作者」「標題」「時間」"
   ]
  },
  {
   "cell_type": "code",
   "execution_count": 47,
   "metadata": {},
   "outputs": [
    {
     "name": "stdout",
     "output_type": "stream",
     "text": [
      "標題:Re: [花邊] 字母哥把球鞋送給幸運小球迷\n",
      "作者:Wall62\n",
      "時間:12/24\n"
     ]
    }
   ],
   "source": [
    "import requests\n",
    "from bs4 import BeautifulSoup\n",
    "\n",
    "url = 'https://www.ptt.cc/bbs/NBA/index.html'\n",
    "r = requests.get(url)\n",
    "\n",
    "soup = BeautifulSoup(r.text, \"html5lib\")\n",
    "print('標題:' + soup.find(class_='title').text.replace('\\t','').replace('\\n',''))\n",
    "print('作者:' + soup.find(class_='author').text)\n",
    "print('時間:' + soup.find(class_='date').text)"
   ]
  },
  {
   "cell_type": "markdown",
   "metadata": {},
   "source": [
    "### ② 印出第一頁所有文章的「作者」「標題」「時間」"
   ]
  },
  {
   "cell_type": "code",
   "execution_count": 48,
   "metadata": {},
   "outputs": [
    {
     "name": "stdout",
     "output_type": "stream",
     "text": [
      "Re: [花邊] 字母哥把球鞋送給幸運小球迷\n",
      "\t作者: Wall62 ()\n",
      "\t時間: Tue Dec 24 22:31:30 2019\n",
      "[討論] 灰狼是不是still the same?\n",
      "\t作者: ChrisDavis (工業電風扇)\n",
      "\t時間: Tue Dec 24 22:34:03 2019\n",
      "[情報] Harden罰球命中數超越Shaquille O'Neal\n",
      "\t作者: NSYSUheng (Pain)\n",
      "\t時間: Tue Dec 24 23:14:19 2019\n",
      "[討論] 選秀年的深度或是說大年怎麼看？\n",
      "\t作者: kobe30418 (謝小笨)\n",
      "\t時間: Tue Dec 24 23:37:54 2019\n",
      "[新聞] 馬刺狂轟145分 Popovich任內次高\n",
      "\t作者: iam168888888 (射精)\n",
      "\t時間: Tue Dec 24 23:39:15 2019\n",
      "[新聞] 3分球10投盡墨 里拉德：凡事總有第一次\n",
      "\t作者: Gotham (萬惡之城)\n",
      "\t時間: Tue Dec 24 23:59:38 2019\n",
      "[討論] 當初的雷霆三少誰的帶隊能力最好\n",
      "\t作者: ghost069 (阿鬼)\n",
      "\t時間: Wed Dec 25 00:44:42 2019\n",
      "[花邊] LBJ和AD預計會出席聖誕大戰\n",
      "\t作者: currykukuo (陳菊濕汗)\n",
      "\t時間: Wed Dec 25 02:44:34 2019\n",
      "Re: [討論] 打nba是不是天生註定的？\n",
      "\t作者: jokername (炫)\n",
      "\t時間: Wed Dec 25 02:47:18 2019\n",
      "[情報] Kyrie Irving 可能再延後2-3週才復出\n",
      "\t作者: Malpais (Malpais)\n",
      "\t時間: Wed Dec 25 04:15:05 2019\n",
      "[情報] 季中錦標賽冠軍 可能有額外首輪選秀權\n",
      "\t作者: currykukuo (陳菊濕汗)\n",
      "\t時間: Wed Dec 25 04:17:20 2019\n",
      "Re: [討論] 選秀年的深度或是說大年怎麼看？\n",
      "\t作者: TheoEpstein (Cubs)\n",
      "\t時間: Wed Dec 25 08:08:07 2019\n",
      "[情報] Love:得知Clarkson交易讓我坐到了地上，\n",
      "\t作者: whj0530 (億載金城武)\n",
      "\t時間: Wed Dec 25 08:57:05 2019\n",
      "[花邊] Justin Holiday賽前和自己女兒玩耍\n",
      "\t作者: nwd4e9cd (冒泡泡~泡泡！)\n",
      "\t時間: Wed Dec 25 09:59:59 2019\n",
      "[花邊] 在24或25歲，字母哥和詹姆斯誰更有統治\n",
      "\t作者: s27052705 (小飽)\n",
      "\t時間: Wed Dec 25 10:16:43 2019\n",
      "[公告] 板規v6.7\n",
      "[公告] 樂透取消及未來不再開啟樂透\n",
      "\t作者: Vedan (味丹)\n",
      "\t時間: Mon Jun 24 15:08:02 2019\n",
      "[公告] 版主上任相關事項 \n",
      "\t作者: qazwsx879345 (Rajon Rondo)\n",
      "\t時間: Fri Oct 25 10:44:03 2019\n",
      "[情報] SEASON Schedule 賽程 December 19–20\n",
      "\t作者: JerroLi (銀色小刀)\n",
      "\t時間: Fri Nov 29 00:46:01 2019\n"
     ]
    }
   ],
   "source": [
    "for d in soup.find_all(class_=\"title\"):\n",
    "    print(d.text.replace('\\t', '').replace('\\n', ''))\n",
    "    try:\n",
    "        r = BeautifulSoup(requests.get('https://www.ptt.cc'+d.find('a')['href']).text, \"html5lib\")\n",
    "        print('\\t作者: ' + r.find(class_='article-meta-value').text)\n",
    "        print('\\t時間: ' + r.find_all(class_='article-meta-value')[-1].text)\n",
    "    except:\n",
    "        continue"
   ]
  },
  {
   "cell_type": "markdown",
   "metadata": {},
   "source": [
    "### ③ 試著爬爬看其他版的文章"
   ]
  },
  {
   "cell_type": "code",
   "execution_count": 49,
   "metadata": {},
   "outputs": [
    {
     "name": "stdout",
     "output_type": "stream",
     "text": [
      "[請問] 狗狗腸胃問題\n",
      "\t作者: eugenie0102 (YO)\n",
      "\t時間: Tue Dec 24 20:57:54 2019\n",
      "(本文已被刪除) [wenjin]\n",
      "★我是置底買賣文:買賣,徵,換,贈,分裝來這篇★\n",
      "[資訊] 夜間急診動物醫院(2019/2/28更新)\n",
      "\t作者: vein (碰到好人了T.T)\n",
      "\t時間: Sun Aug  1 02:58:20 2010\n",
      "[公告] Dog版版規 (Dog版固定格式與管理)\n",
      "\t作者: vein (吼!!╰(‵□′)╯)\n",
      "\t時間: Wed Sep 26 15:26:02 2012\n",
      "[資訊] 新手必看！看板基本指令 + 常見問題FAQ\n",
      "\t作者: vein (＊滑鼠終結者＊)\n",
      "\t時間: Sat Jan 15 21:34:35 2011\n"
     ]
    }
   ],
   "source": [
    "url = 'https://www.ptt.cc/bbs/Dog/index.html'\n",
    "r = requests.get(url)\n",
    "\n",
    "soup = BeautifulSoup(r.text, \"html5lib\")\n",
    "for d in soup.find_all(class_=\"title\"):\n",
    "    print(d.text.replace('\\t', '').replace('\\n', ''))\n",
    "    try:\n",
    "        r = BeautifulSoup(requests.get('https://www.ptt.cc'+d.find('a')['href']).text, \"html5lib\")\n",
    "        print('\\t作者: ' + r.find(class_='article-meta-value').text)\n",
    "        print('\\t時間: ' + r.find_all(class_='article-meta-value')[-1].text)\n",
    "    except:\n",
    "        continue"
   ]
  },
  {
   "cell_type": "code",
   "execution_count": null,
   "metadata": {},
   "outputs": [],
   "source": []
  }
 ],
 "metadata": {
  "kernelspec": {
   "display_name": "Python 3",
   "language": "python",
   "name": "python3"
  },
  "language_info": {
   "codemirror_mode": {
    "name": "ipython",
    "version": 3
   },
   "file_extension": ".py",
   "mimetype": "text/x-python",
   "name": "python",
   "nbconvert_exporter": "python",
   "pygments_lexer": "ipython3",
   "version": "3.7.5"
  }
 },
 "nbformat": 4,
 "nbformat_minor": 2
}
