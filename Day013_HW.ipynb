{
 "cells": [
  {
   "cell_type": "markdown",
   "metadata": {},
   "source": [
    "# PTT 網路爬蟲實作練習\n",
    "\n",
    "\n",
    "* 能夠利用 Request + BeatifulSour 撰寫爬蟲，並存放到合適的資料結構\n"
   ]
  },
  {
   "cell_type": "markdown",
   "metadata": {},
   "source": [
    "## 作業目標\n",
    "\n",
    "根據範例 ，完成以下問題：\n",
    "\n",
    "* ① 印出最新文章的「作者」「標題」「時間」\n",
    "* ② 印出第一頁所有文章的「作者」「標題」「時間」\n"
   ]
  },
  {
   "cell_type": "markdown",
   "metadata": {},
   "source": [
    "### ① 印出最新文章的「作者」「標題」「時間」"
   ]
  },
  {
   "cell_type": "code",
   "execution_count": 1,
   "metadata": {},
   "outputs": [
    {
     "name": "stdout",
     "output_type": "stream",
     "text": [
      "[BOX ] Pacers 89:117 Bucks 數據\n",
      "[BOX ] Clippers 112:118 Thunder 數據\n",
      "(本文已被刪除) [ghost069]\n",
      "[情報] 由ESPN的RPM 挑出各隊大腿\n",
      "作者: checktime (華哥)\n",
      "[外絮] 公鹿老闆Lasry誇耀他們隊上沒有抓馬\n",
      "作者: pneumo (超☆冒險蓋)\n",
      "[花邊] 字母哥把球鞋送給幸運小球迷\n",
      "作者: Wall62 ()\n",
      "[情報] 雷霆賽後記者會前 CP3跟SGA的爆笑對話\n",
      "作者: pneumo (超☆冒險蓋)\n",
      "Re: [花邊] Leonard今日輪休，客場對陣雷霆將缺席\n",
      "作者: jackie0414 (哇哈哈)\n",
      "[情報] 巫師明日比賽僅有8人能夠上場\n",
      "作者: melman87 (長頸男)\n",
      "[BOX ] Nuggets 128:104 Lakers 數據\n",
      "(本文已被刪除) [youarenotgay]\n",
      "[情報]  Perkins: Waiters完美適合湖人\n",
      "作者: VeryGoodBoy (很棒的男孩)\n",
      "[情報] 七六人新秀Matisse Thybulle腳傷\n",
      "作者: lens82801 (開始QQ的見習生)\n",
      "[公告] 水桶 \n",
      "作者: namie810303 (NBA)\n",
      "[討論] 一年打滿82場 不輪休很難嗎?\n",
      "作者: currykukuo (陳菊濕汗)\n",
      "[新聞] LBJ胸肌拉傷缺戰 AD滑倒傷右膝 金塊狂勝\n",
      "作者: manuginobii (做愛校 果真累人)\n",
      "[新聞] 憶詹姆斯暗指不夠融入 勒夫坦言不好受\n",
      "作者: go190214 (天空之島拉普達)\n",
      "[外絮] Howard：聖誕大賽是給粉絲看的 無法試驗\n",
      "作者: ericgary (艾瑞克蓋瑞)\n",
      "[新聞] 前新人王在印城大爆發　公鹿主帥透漏為\n",
      "作者: fukawa947 (交大薛之謙)\n",
      "Re: [討論] 一年打滿82場 不輪休很難嗎?\n",
      "作者: HEHEHEHEHE (ㄏㄧㄏㄧㄏ一)\n",
      "[公告] 板規v6.7\n",
      "[公告] 樂透取消及未來不再開啟樂透\n",
      "作者: Vedan (味丹)\n",
      "[公告] 版主上任相關事項 \n",
      "作者: qazwsx879345 (Rajon Rondo)\n",
      "[情報] SEASON Schedule 賽程 December 19–20\n",
      "作者: JerroLi (銀色小刀)\n",
      "[公告] 是否禁止記者鄭廷瑋文章投票開始\n",
      "作者: dragon803 (好想去露營啊~)\n"
     ]
    }
   ],
   "source": [
    "import requests\n",
    "from bs4 import BeautifulSoup\n",
    "\n",
    "url = 'https://www.ptt.cc/bbs/NBA/index.html'\n",
    "r = requests.get(url)\n",
    "\n",
    "soup = BeautifulSoup(r.text, \"html5lib\")\n",
    "\n",
    "for d in soup.find_all(class_=\"title\"):\n",
    "    print(d.text.replace('\\t', '').replace('\\n', ''))\n",
    "    try:\n",
    "        r = BeautifulSoup(requests.get('https://www.ptt.cc'+d.find('a')['href']).text, \"html5lib\")\n",
    "        print('作者: ' + r.find(class_='article-meta-value').text)\n",
    "    except:\n",
    "        continue\n"
   ]
  },
  {
   "cell_type": "markdown",
   "metadata": {},
   "source": [
    "### ② 印出第一頁所有文章的「作者」「標題」「時間」"
   ]
  },
  {
   "cell_type": "code",
   "execution_count": null,
   "metadata": {},
   "outputs": [],
   "source": [
    "'''\n",
    "Your Code\n",
    "'''"
   ]
  },
  {
   "cell_type": "markdown",
   "metadata": {},
   "source": [
    "### ③ 試著爬爬看其他版的文章"
   ]
  },
  {
   "cell_type": "code",
   "execution_count": null,
   "metadata": {},
   "outputs": [],
   "source": [
    "'''\n",
    "Your Code\n",
    "'''"
   ]
  }
 ],
 "metadata": {
  "kernelspec": {
   "display_name": "Python 3",
   "language": "python",
   "name": "python3"
  },
  "language_info": {
   "codemirror_mode": {
    "name": "ipython",
    "version": 3
   },
   "file_extension": ".py",
   "mimetype": "text/x-python",
   "name": "python",
   "nbconvert_exporter": "python",
   "pygments_lexer": "ipython3",
   "version": "3.7.5"
  }
 },
 "nbformat": 4,
 "nbformat_minor": 2
}
