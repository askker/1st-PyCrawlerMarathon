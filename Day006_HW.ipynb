{
  "nbformat": 4,
  "nbformat_minor": 0,
  "metadata": {
    "kernelspec": {
      "display_name": "Python 3",
      "language": "python",
      "name": "python3"
    },
    "language_info": {
      "codemirror_mode": {
        "name": "ipython",
        "version": 3
      },
      "file_extension": ".py",
      "mimetype": "text/x-python",
      "name": "python",
      "nbconvert_exporter": "python",
      "pygments_lexer": "ipython3",
      "version": "3.7.5"
    },
    "colab": {
      "name": "Day006_HW.ipynb",
      "provenance": []
    }
  },
  "cells": [
    {
      "cell_type": "markdown",
      "metadata": {
        "id": "O8Fwctf_nF3x",
        "colab_type": "text"
      },
      "source": [
        "# API 資料串接 - 以 知乎 API 實作範例\n",
        "\n",
        "\n",
        "\n",
        "* 了解知乎 API 使用方式與回傳內容\n",
        "* 撰寫程式存取 API 且添加標頭\n",
        "\n",
        "\n"
      ]
    },
    {
      "cell_type": "markdown",
      "metadata": {
        "id": "fTg4HsIunF3z",
        "colab_type": "text"
      },
      "source": [
        "## 作業目標\n",
        "\n",
        "* 根據範例提供的 API ，完成以下問題：\n",
        "\n",
        "    1. 取出知乎問題發問時間\n",
        "    2. 取出第一筆與最後一筆回答的時間\n"
      ]
    },
    {
      "cell_type": "markdown",
      "metadata": {
        "id": "w902bvTZnF30",
        "colab_type": "text"
      },
      "source": [
        "### 1. 取出知乎問題發問時間"
      ]
    },
    {
      "cell_type": "code",
      "metadata": {
        "id": "r81bJ3T3nF31",
        "colab_type": "code",
        "colab": {
          "base_uri": "https://localhost:8080/",
          "height": 34
        },
        "outputId": "36f81906-c79a-40a1-ed5c-5cf90a696ae9"
      },
      "source": [
        "# 1. 取出知乎問題發問時間\n",
        "import requests\n",
        "import json\n",
        "#import time\n",
        "from datetime import datetime, timezone\n",
        "\n",
        "headers = {'user-agent': 'my-app/0.0.1'}\n",
        "r = requests.get('https://www.zhihu.com/api/v4/questions/55493026/answers',headers=headers)\n",
        "response = r.text\n",
        "datas = json.loads(response)\n",
        "\n",
        "#t=time.ctime(datas['data'][0]['question']['created'])\n",
        "t=datetime.fromtimestamp(datas['data'][0]['question']['created'])\n",
        "print('發問時間:', t)"
      ],
      "execution_count": 29,
      "outputs": [
        {
          "output_type": "stream",
          "text": [
            "發問時間: 2017-02-06 14:10:29\n"
          ],
          "name": "stdout"
        }
      ]
    },
    {
      "cell_type": "markdown",
      "metadata": {
        "id": "jOKcb5WgnF34",
        "colab_type": "text"
      },
      "source": [
        "### 2. 取出第一筆與最後一筆回答的時間"
      ]
    },
    {
      "cell_type": "code",
      "metadata": {
        "id": "umtlJgu7nF35",
        "colab_type": "code",
        "colab": {
          "base_uri": "https://localhost:8080/",
          "height": 50
        },
        "outputId": "b705b32b-a812-4e7c-e9aa-4dbcb2d50365"
      },
      "source": [
        "# 2. 取出第一筆與最後一筆回答的時間\n",
        "#t1=time.ctime(datas['data'][0]['created_time'])\n",
        "t1=datetime.fromtimestamp(datas['data'][0]['created_time'])\n",
        "print('第一筆回答時間:', t1)\n",
        "#t2=time.ctime(datas['data'][-1]['created_time'])\n",
        "t2=datetime.fromtimestamp(datas['data'][-1]['created_time'])\n",
        "print('最後一筆回答時間:', t2)"
      ],
      "execution_count": 31,
      "outputs": [
        {
          "output_type": "stream",
          "text": [
            "第一筆回答時間: 2019-05-14 09:00:12\n",
            "最後一筆回答時間: 2019-10-29 03:07:06\n"
          ],
          "name": "stdout"
        }
      ]
    }
  ]
}