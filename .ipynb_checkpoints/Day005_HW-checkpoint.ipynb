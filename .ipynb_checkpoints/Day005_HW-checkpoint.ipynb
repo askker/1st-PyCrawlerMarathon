{
 "cells": [
  {
   "cell_type": "markdown",
   "metadata": {},
   "source": [
    "# API 資料串接 - 以 Dcard API 實作範例\n",
    "\n",
    "* 了解 Dcard API 使用方式與回傳內容\n",
    "* 撰寫程式存取 API 且解析 JSON 格式資料\n"
   ]
  },
  {
   "cell_type": "markdown",
   "metadata": {},
   "source": [
    "## 作業目標\n",
    "\n",
    "* 請利用 API: https://www.dcard.tw/_api/forums/pet/posts?popular=true 回答下列問題：\n",
    "\n",
    "1. 這個 API 一次會回傳幾筆資料？每一筆資料包含哪些欄位？\n",
    "2. 取出每一筆資料的「標題」、「貼文時間」、「留言人數」、「按讚人數」\n",
    "3. 計算熱門/非熱門文章的「平均留言人數」與「平均按讚人數」"
   ]
  },
  {
   "cell_type": "code",
   "execution_count": 16,
   "metadata": {},
   "outputs": [
    {
     "name": "stdout",
     "output_type": "stream",
     "text": [
      "共 30 筆資料\n",
      "共 33 欄位\n",
      "id\n",
      "title\n",
      "excerpt\n",
      "anonymousSchool\n",
      "anonymousDepartment\n",
      "pinned\n",
      "forumId\n",
      "replyId\n",
      "createdAt\n",
      "updatedAt\n",
      "commentCount\n",
      "likeCount\n",
      "withNickname\n",
      "tags\n",
      "topics\n",
      "meta\n",
      "forumName\n",
      "forumAlias\n",
      "gender\n",
      "school\n",
      "department\n",
      "replyTitle\n",
      "mediaMeta\n",
      "reactions\n",
      "hidden\n",
      "customStyle\n",
      "isSuspiciousAccount\n",
      "layout\n",
      "withImages\n",
      "withVideos\n",
      "media\n",
      "reportReasonText\n",
      "postAvatar\n"
     ]
    }
   ],
   "source": [
    "# 1. 這個 API 一次會回傳幾筆資料？每一筆資料包含哪些欄位？\n",
    "import requests\n",
    "import json\n",
    "r = requests.get('https://www.dcard.tw/_api/forums/pet/posts?popular=true')\n",
    "data = json.loads(r.text)\n",
    "print('共',len(data), '筆資料')\n",
    "print('共',len(data[0]), '欄位')\n",
    "for d in data[0]:\n",
    "    print(d)"
   ]
  },
  {
   "cell_type": "code",
   "execution_count": 21,
   "metadata": {},
   "outputs": [
    {
     "name": "stdout",
     "output_type": "stream",
     "text": [
      "標題: 散步好夥伴🐶漆黑寒冷的夜晚也找得到便便💩 貼文時間: 2019-12-02T02:51:47.393Z 留言人數 0 按讚人數 304\n",
      "標題: 同學你的貓貓 貼文時間: 2019-12-02T12:11:28.555Z 留言人數 20 按讚人數 284\n",
      "標題: 我到底養了什麼貓....（...微西斯） 貼文時間: 2019-12-02T11:45:50.709Z 留言人數 13 按讚人數 183\n",
      "標題: 餵養的浪貓得了乳腺瘤 貼文時間: 2019-12-02T05:29:49.540Z 留言人數 12 按讚人數 162\n",
      "標題: 有這麼不爽嗎(･ัω･ั) 貼文時間: 2019-12-02T08:31:17.626Z 留言人數 8 按讚人數 130\n",
      "標題: 我家的老阿公 貼文時間: 2019-12-02T06:22:36.958Z 留言人數 9 按讚人數 70\n",
      "標題: 覺得認同 貼文時間: 2019-12-02T16:16:39.331Z 留言人數 7 按讚人數 60\n",
      "標題: 我在日本養了一隻貓(圖多 貼文時間: 2019-12-02T02:38:35.799Z 留言人數 2 按讚人數 51\n",
      "標題: 我發誓牠們的食物是一樣的…… 貼文時間: 2019-12-02T15:47:50.672Z 留言人數 3 按讚人數 50\n",
      "標題: 送養 貼文時間: 2019-12-02T02:36:37.309Z 留言人數 5 按讚人數 44\n",
      "標題: #急#刺蝟 貼文時間: 2019-12-02T05:06:34.886Z 留言人數 10 按讚人數 36\n",
      "標題: 你怎麼站起來了！ 貼文時間: 2019-12-02T14:42:42.738Z 留言人數 5 按讚人數 34\n",
      "標題: 是我太髒嗎? 貼文時間: 2019-12-02T09:16:23.658Z 留言人數 3 按讚人數 29\n",
      "標題: 你有看過這隻狗嗎？ 貼文時間: 2019-12-01T20:33:16.869Z 留言人數 2 按讚人數 25\n",
      "標題: 若要抱貓，必先成貓 貼文時間: 2019-12-02T05:44:06.710Z 留言人數 1 按讚人數 22\n",
      "標題: 我有一隻可愛的來福 貼文時間: 2019-12-02T14:32:37.716Z 留言人數 7 按讚人數 21\n",
      "標題: 直接抓到犯罪證據 貼文時間: 2019-12-02T14:43:24.475Z 留言人數 0 按讚人數 20\n",
      "標題: 我家曠世怨婦🐱 貼文時間: 2019-12-02T06:56:01.120Z 留言人數 0 按讚人數 18\n",
      "標題: #圖多 萬用的奴才肩膀 貼文時間: 2019-12-02T10:49:21.771Z 留言人數 0 按讚人數 16\n",
      "標題: 床要被你們壓壞啦啊啊啊 貼文時間: 2019-12-02T13:09:49.509Z 留言人數 3 按讚人數 15\n",
      "標題: 同學你的貓 貼文時間: 2019-12-02T17:33:55.812Z 留言人數 5 按讚人數 14\n",
      "標題: 中台小貓咪 貼文時間: 2019-12-02T15:28:25.729Z 留言人數 1 按讚人數 14\n",
      "標題: 淘寶訂可爾必斯送來...? 貼文時間: 2019-12-02T08:32:40.657Z 留言人數 3 按讚人數 14\n",
      "標題: 曬個萌樣來雪恥💪 貼文時間: 2019-12-02T08:01:07.477Z 留言人數 1 按讚人數 13\n",
      "標題: #圖 板橋貓咪走失（已找到） 貼文時間: 2019-12-02T03:50:17.266Z 留言人數 3 按讚人數 13\n",
      "標題: 養了一隻便便製造機 貼文時間: 2019-12-02T19:36:06.064Z 留言人數 6 按讚人數 11\n",
      "標題: 品種 貼文時間: 2019-12-02T00:30:48.852Z 留言人數 4 按讚人數 10\n",
      "標題: 表情很浮誇喔 貼文時間: 2019-12-02T15:36:01.429Z 留言人數 0 按讚人數 9\n",
      "標題: 來蓋吉娃娃樓 貼文時間: 2019-12-02T13:09:02.202Z 留言人數 13 按讚人數 7\n",
      "標題: 領養貓咪 屏東/高雄送養 如有車費全台車站都可送養 貼文時間: 2019-12-02T02:43:55.761Z 留言人數 5 按讚人數 7\n"
     ]
    }
   ],
   "source": [
    "# 2. 取出每一筆資料的「標題」、「貼文時間」、「留言人數」、「按讚人數」\n",
    "for d in data:\n",
    "    print('標題:',d['title'],'貼文時間:',d['createdAt'],'留言人數',d['commentCount'],'按讚人數',d['likeCount'])"
   ]
  },
  {
   "cell_type": "code",
   "execution_count": 23,
   "metadata": {},
   "outputs": [
    {
     "name": "stdout",
     "output_type": "stream",
     "text": [
      "熱門文章平均留言人數: 5.033333333333333 平均按讚人數: 56.2\n",
      "非熱門文章平均留言人數: 2.966666666666667 平均按讚人數: 10.133333333333333\n"
     ]
    }
   ],
   "source": [
    "# 3. 計算熱門/非熱門文章的「平均留言人數」與「平均按讚人數」\n",
    "r = requests.get('https://www.dcard.tw/_api/forums/pet/posts?popular=false')\n",
    "data2 = json.loads(r.text)\n",
    "comment=like=0\n",
    "for d in data:\n",
    "    comment += d['commentCount']\n",
    "    like += d['likeCount']\n",
    "print('熱門文章平均留言人數:', comment/30, '平均按讚人數:', like/30)\n",
    "comment=like=0\n",
    "for d in data2:\n",
    "    comment += d['commentCount']\n",
    "    like += d['likeCount']\n",
    "#    print('標題:',d['title'],'貼文時間:',d['createdAt'],'留言人數',d['commentCount'],'按讚人數',d['likeCount'])\n",
    "print('非熱門文章平均留言人數:', comment/30, '平均按讚人數:', like/30)\n"
   ]
  }
 ],
 "metadata": {
  "kernelspec": {
   "display_name": "Python 3",
   "language": "python",
   "name": "python3"
  },
  "language_info": {
   "codemirror_mode": {
    "name": "ipython",
    "version": 3
   },
   "file_extension": ".py",
   "mimetype": "text/x-python",
   "name": "python",
   "nbconvert_exporter": "python",
   "pygments_lexer": "ipython3",
   "version": "3.7.5"
  }
 },
 "nbformat": 4,
 "nbformat_minor": 2
}
